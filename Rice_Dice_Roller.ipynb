{
 "cells": [
  {
   "cell_type": "code",
   "execution_count": 5,
   "metadata": {},
   "outputs": [],
   "source": [
    "from numpy import random as np_r\n",
    "\n",
    "def rollDice(player_array): \n",
    "    \n",
    "    if len(player_array)==4:\n",
    "        limit = 3 if player_array[0]>=3 else player_array[0]\n",
    "    else:\n",
    "        limit = 2 if player_array[0]>=2 else player_array[0]\n",
    "    \n",
    "    for i in range(limit):\n",
    "        if (player_array[i+1] != -1):\n",
    "            player_array[i+1] = np_r.randint(1,6)\n",
    "    \n",
    "    return player_array\n",
    "    \n"
   ]
  },
  {
   "cell_type": "code",
   "execution_count": 6,
   "metadata": {},
   "outputs": [],
   "source": [
    " \n",
    "def  playGame(atk_array, def_array):\n",
    "    \n",
    "    #limit = len(def_array[1:][def_array[1:] != -1])\n",
    "    #for i in range(limit):\n",
    "    atk_max = max(atk_array[1:])\n",
    "    def_max = max(def_array[1:])\n",
    "    unit_atk = atk_array[0]# endA_index = atk_array[0] - 4\n",
    "    unit_def = def_array[0]# endD_index = def_array[0] - 3\n",
    "\n",
    "    if atk_max > def_max:\n",
    "        def_array[0] = unit_def - 1\n",
    "        if (unit_def <= 2):\n",
    "            def_array[unit_def-3] = -1\n",
    "            print(def_array[0])\n",
    "\n",
    "    elif def_max > atk_max or def_max == atk_max:\n",
    "        atk_array[0] = unit_atk - 1\n",
    "        print(atk_array[0],\"check inside defense greater\")\n",
    "        if (unit_atk <= 3):    \n",
    "            atk_array[unit_atk-4] = -1\n",
    "            print(atk_array[0])\n",
    "\n",
    "\n"
   ]
  },
  {
   "cell_type": "code",
   "execution_count": 1,
   "metadata": {},
   "outputs": [],
   "source": [
    "import numpy as np\n",
    "\n",
    "\n",
    "input_units = int(input('Enter number of units: '))\n",
    "print('Starting number of units: ',input_units)\n",
    "atk_array = [input_units,None,None,None]\n",
    "def_array = [input_units,None,None]\n",
    "\n",
    "while True:\n",
    "    \n",
    "    stay_in_game = input('Continue Attack (Y/N):')\n",
    "    if str.lower(stay_in_game) != 'y':\n",
    "        print(\"\\033[1m\" + \"Attacker Forfeited\\nGame Ended\")\n",
    "        break\n",
    "    else: \n",
    "        # Roll Dice \n",
    "        atk_array = np.array(rollDice(atk_array))\n",
    "        def_array = np.array(rollDice(def_array))\n",
    "     \n",
    "        print(\"-------------------------------\")\n",
    "        print(\"Attacker:\\nDice-> \" f\"[{atk_array[1]},{atk_array[2]},{atk_array[3]}]\")\n",
    "        print(\"Max-> \", max(atk_array[1:]))\n",
    "        print(\"Defender:\\nDice-> \" f\"[{def_array[1]},{def_array[2]}]\")\n",
    "        print(\"Max-> \", max(def_array[1:]))\n",
    "        \n",
    "        # Play Game\n",
    "        playGame(atk_array,def_array)\n",
    "        print(\"-------------------------------\")\n",
    "        print(f\"Attacker Units: {atk_array[0]}\")\n",
    "        print(f\"Defender Units: {def_array[0]}\")\n",
    "        print(\"*******************************\")\n",
    "        if atk_array[0] == 0:\n",
    "            print(\"\\033[1m\" + \"Defender Wins\\nGame Ended\")\n",
    "            break\n",
    "        elif def_array[0] == 0:\n",
    "            print(\"\\033[1m\" + \"Attacker Wins\\nGame Ended\")\n",
    "            break\n",
    "    \n",
    "    \n",
    "    \n",
    "    \n",
    "\n"
   ]
  },
  {
   "cell_type": "code",
   "execution_count": null,
   "metadata": {},
   "outputs": [],
   "source": []
  }
 ],
 "metadata": {
  "kernelspec": {
   "display_name": "Python 3.8.3 ('base')",
   "language": "python",
   "name": "python3"
  },
  "language_info": {
   "codemirror_mode": {
    "name": "ipython",
    "version": 3
   },
   "file_extension": ".py",
   "mimetype": "text/x-python",
   "name": "python",
   "nbconvert_exporter": "python",
   "pygments_lexer": "ipython3",
   "version": "3.8.3"
  },
  "vscode": {
   "interpreter": {
    "hash": "ad2bdc8ecc057115af97d19610ffacc2b4e99fae6737bb82f5d7fb13d2f2c186"
   }
  }
 },
 "nbformat": 4,
 "nbformat_minor": 2
}
